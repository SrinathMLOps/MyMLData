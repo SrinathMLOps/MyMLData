{
  "nbformat": 4,
  "nbformat_minor": 0,
  "metadata": {
    "colab": {
      "name": "Linear Regression with one variable",
      "provenance": [],
      "include_colab_link": true
    },
    "kernelspec": {
      "name": "python3",
      "display_name": "Python 3"
    }
  },
  "cells": [
    {
      "cell_type": "markdown",
      "metadata": {
        "id": "view-in-github",
        "colab_type": "text"
      },
      "source": [
        "<a href=\"https://colab.research.google.com/github/SrinathMLOps/MyMLData/blob/master/Linear_Regression_with_one_variable.ipynb\" target=\"_parent\"><img src=\"https://colab.research.google.com/assets/colab-badge.svg\" alt=\"Open In Colab\"/></a>"
      ]
    },
    {
      "cell_type": "markdown",
      "metadata": {
        "id": "uu8uRUoAr2lv"
      },
      "source": [
        "# Linear Regression with one variable\n",
        "\n",
        "In this example, we use Linear Regression as an exploratory data analysis tool. The objective is to understand how well can we explain the SalePrice of a house using real attributes individually.\n",
        "\n",
        "Github version:\n",
        "https://github.com/rodmsmendes/reinforcementlearning4fun/blob/master/Linear_Regression_with_one_variable.ipynb\n",
        "\n",
        "Kaggle kernel version:\n",
        "https://www.kaggle.com/rodolfomendes/linear-regression-with-one-variable/notebook"
      ]
    },
    {
      "cell_type": "code",
      "source": [],
      "metadata": {
        "id": "Kmjx-p_bwjmc"
      },
      "execution_count": null,
      "outputs": []
    },
    {
      "cell_type": "markdown",
      "metadata": {
        "id": "X2P9wxSqu0Ml"
      },
      "source": [
        "## 1. Importing libraries\n",
        "\n",
        "For this notebook we load some of the most common libraries for Data Science wiht Python:\n",
        "* NumPy\n",
        "* Pandas\n",
        "* Matplotlib\n",
        "* scikit-learn"
      ]
    },
    {
      "cell_type": "code",
      "metadata": {
        "id": "4lZsidmAr7ok"
      },
      "source": [
        "import numpy as np\n",
        "import pandas as pd\n",
        "import matplotlib.pyplot as plt\n",
        "\n",
        "from sklearn.model_selection import train_test_split\n",
        "from sklearn.linear_model import LinearRegression\n",
        "from sklearn.metrics import mean_squared_error"
      ],
      "execution_count": 1,
      "outputs": []
    },
    {
      "cell_type": "markdown",
      "metadata": {
        "id": "j77elWzNvl3Z"
      },
      "source": [
        "## 2. Loading Data and Selecting Attributes\n",
        "\n",
        "Then we use Pandas to load data from house pricing competition, into a DataFrame.\n",
        "\n",
        "\n",
        "\n"
      ]
    },
    {
      "cell_type": "code",
      "metadata": {
        "id": "JntmRwBnvEo1"
      },
      "source": [
        "url = 'https://raw.githubusercontent.com/rodmsmendes/reinforcementlearning4fun/master/data/house_prices.csv'\n",
        "df = pd.read_csv(url)"
      ],
      "execution_count": null,
      "outputs": []
    },
    {
      "cell_type": "markdown",
      "metadata": {
        "id": "Szwc6C9ffULO"
      },
      "source": [
        "For this litte example, we select only the attributes which represents measurements. So, for our new DataFrame we select only the attributes of the **float64** type. Next with print information about the attributes as well their basic statistics."
      ]
    },
    {
      "cell_type": "code",
      "metadata": {
        "id": "nnMpNs_bN8C2",
        "outputId": "470b9e98-ba6b-48ca-c5ed-e74b4e982e82",
        "colab": {
          "base_uri": "https://localhost:8080/",
          "height": 153
        }
      },
      "source": [
        "df_float = df.select_dtypes(include=['float64']).copy()\n",
        "df_float.info()"
      ],
      "execution_count": null,
      "outputs": [
        {
          "output_type": "stream",
          "text": [
            "<class 'pandas.core.frame.DataFrame'>\n",
            "RangeIndex: 1460 entries, 0 to 1459\n",
            "Data columns (total 3 columns):\n",
            "LotFrontage    1201 non-null float64\n",
            "MasVnrArea     1452 non-null float64\n",
            "GarageYrBlt    1379 non-null float64\n",
            "dtypes: float64(3)\n",
            "memory usage: 34.3 KB\n"
          ],
          "name": "stdout"
        }
      ]
    },
    {
      "cell_type": "code",
      "metadata": {
        "id": "YqL6xCfJhRwj",
        "outputId": "437f747a-dac2-4c75-f4ed-d90af3e02a66",
        "colab": {
          "base_uri": "https://localhost:8080/",
          "height": 297
        }
      },
      "source": [
        "df_float.describe()"
      ],
      "execution_count": null,
      "outputs": [
        {
          "output_type": "execute_result",
          "data": {
            "text/html": [
              "<div>\n",
              "<style scoped>\n",
              "    .dataframe tbody tr th:only-of-type {\n",
              "        vertical-align: middle;\n",
              "    }\n",
              "\n",
              "    .dataframe tbody tr th {\n",
              "        vertical-align: top;\n",
              "    }\n",
              "\n",
              "    .dataframe thead th {\n",
              "        text-align: right;\n",
              "    }\n",
              "</style>\n",
              "<table border=\"1\" class=\"dataframe\">\n",
              "  <thead>\n",
              "    <tr style=\"text-align: right;\">\n",
              "      <th></th>\n",
              "      <th>LotFrontage</th>\n",
              "      <th>MasVnrArea</th>\n",
              "      <th>GarageYrBlt</th>\n",
              "    </tr>\n",
              "  </thead>\n",
              "  <tbody>\n",
              "    <tr>\n",
              "      <th>count</th>\n",
              "      <td>1201.000000</td>\n",
              "      <td>1452.000000</td>\n",
              "      <td>1379.000000</td>\n",
              "    </tr>\n",
              "    <tr>\n",
              "      <th>mean</th>\n",
              "      <td>70.049958</td>\n",
              "      <td>103.685262</td>\n",
              "      <td>1978.506164</td>\n",
              "    </tr>\n",
              "    <tr>\n",
              "      <th>std</th>\n",
              "      <td>24.284752</td>\n",
              "      <td>181.066207</td>\n",
              "      <td>24.689725</td>\n",
              "    </tr>\n",
              "    <tr>\n",
              "      <th>min</th>\n",
              "      <td>21.000000</td>\n",
              "      <td>0.000000</td>\n",
              "      <td>1900.000000</td>\n",
              "    </tr>\n",
              "    <tr>\n",
              "      <th>25%</th>\n",
              "      <td>59.000000</td>\n",
              "      <td>0.000000</td>\n",
              "      <td>1961.000000</td>\n",
              "    </tr>\n",
              "    <tr>\n",
              "      <th>50%</th>\n",
              "      <td>69.000000</td>\n",
              "      <td>0.000000</td>\n",
              "      <td>1980.000000</td>\n",
              "    </tr>\n",
              "    <tr>\n",
              "      <th>75%</th>\n",
              "      <td>80.000000</td>\n",
              "      <td>166.000000</td>\n",
              "      <td>2002.000000</td>\n",
              "    </tr>\n",
              "    <tr>\n",
              "      <th>max</th>\n",
              "      <td>313.000000</td>\n",
              "      <td>1600.000000</td>\n",
              "      <td>2010.000000</td>\n",
              "    </tr>\n",
              "  </tbody>\n",
              "</table>\n",
              "</div>"
            ],
            "text/plain": [
              "       LotFrontage   MasVnrArea  GarageYrBlt\n",
              "count  1201.000000  1452.000000  1379.000000\n",
              "mean     70.049958   103.685262  1978.506164\n",
              "std      24.284752   181.066207    24.689725\n",
              "min      21.000000     0.000000  1900.000000\n",
              "25%      59.000000     0.000000  1961.000000\n",
              "50%      69.000000     0.000000  1980.000000\n",
              "75%      80.000000   166.000000  2002.000000\n",
              "max     313.000000  1600.000000  2010.000000"
            ]
          },
          "metadata": {
            "tags": []
          },
          "execution_count": 26
        }
      ]
    },
    {
      "cell_type": "markdown",
      "metadata": {
        "id": "UqkKxLQHgJ4e"
      },
      "source": [
        "## 3. Filling missing values\n",
        "\n",
        "From the DataFrame information printed above, we can observe the DataFrame has a total of 1460 rows. But looking at the attributes we observe that all of them\n",
        "has less than 1460 non-null values each. So we need to handle this missing values in order to proceed. So, for each attribute we use the method *fillna()*\n",
        "to fill the missing values with the their respective mean value."
      ]
    },
    {
      "cell_type": "code",
      "metadata": {
        "id": "Y4JNprVBdBsS"
      },
      "source": [
        "df_float['LotFrontage'] = df['LotFrontage'].fillna(df['LotFrontage'].mean(), inplace=False)"
      ],
      "execution_count": null,
      "outputs": []
    },
    {
      "cell_type": "code",
      "metadata": {
        "id": "-Fcow5VfA55o"
      },
      "source": [
        "df_float['MasVnrArea'] = df['MasVnrArea'].fillna(df['MasVnrArea'].mean(), inplace=False)"
      ],
      "execution_count": null,
      "outputs": []
    },
    {
      "cell_type": "code",
      "metadata": {
        "id": "Ish3A9gZf-kS"
      },
      "source": [
        "df_float['GarageYrBlt'] = df['GarageYrBlt'].fillna(df['GarageYrBlt'].mean(), inplace=False)"
      ],
      "execution_count": null,
      "outputs": []
    },
    {
      "cell_type": "markdown",
      "metadata": {
        "id": "hLhfjNFhiIfX"
      },
      "source": [
        "After filling the missing values we can check that each attribute has 1460 non-null values each:"
      ]
    },
    {
      "cell_type": "code",
      "metadata": {
        "id": "CGwD99A7iWo0",
        "outputId": "1c6e92b3-0f26-4c29-ffdc-38b75dc858f5",
        "colab": {
          "base_uri": "https://localhost:8080/",
          "height": 153
        }
      },
      "source": [
        "df_float.info()"
      ],
      "execution_count": null,
      "outputs": [
        {
          "output_type": "stream",
          "text": [
            "<class 'pandas.core.frame.DataFrame'>\n",
            "RangeIndex: 1460 entries, 0 to 1459\n",
            "Data columns (total 3 columns):\n",
            "LotFrontage    1460 non-null float64\n",
            "MasVnrArea     1460 non-null float64\n",
            "GarageYrBlt    1460 non-null float64\n",
            "dtypes: float64(3)\n",
            "memory usage: 34.3 KB\n"
          ],
          "name": "stdout"
        }
      ]
    },
    {
      "cell_type": "markdown",
      "metadata": {
        "id": "nDnzJCDowELG"
      },
      "source": [
        "## 4. Regression Analysis for LotFrontage\n",
        "\n",
        "Once we handled the missing values for each attribute, we can proceed to the linear regression analysis. In this example we build a linear regression model to explain the SalePrice of a house depending on the LotFrontage measurement. As a first step we save the respective attributes into variables *lotFrontage* and *salePrice*. Instead of the traditional *X* e *y* variables we use the attribute name for clarity purposes."
      ]
    },
    {
      "cell_type": "code",
      "metadata": {
        "id": "gO_e43gNORZ4"
      },
      "source": [
        "lotFrontage = df_float[['LotFrontage']]\n",
        "salePrice = df['SalePrice']"
      ],
      "execution_count": null,
      "outputs": []
    },
    {
      "cell_type": "markdown",
      "metadata": {
        "id": "xqhySUfckHJC"
      },
      "source": [
        "Next we create an instance of *LinearRegression* class from scikit-learn and call the method *fit()* passing the columns as parameters to create our model."
      ]
    },
    {
      "cell_type": "code",
      "metadata": {
        "id": "QSo9fVN7OqZH",
        "outputId": "420dadd5-645d-4eb6-a7cd-8c443dfd3590",
        "colab": {
          "base_uri": "https://localhost:8080/",
          "height": 34
        }
      },
      "source": [
        "lr1 = LinearRegression()\n",
        "lr1.fit(lotFrontage, salePrice)"
      ],
      "execution_count": null,
      "outputs": [
        {
          "output_type": "execute_result",
          "data": {
            "text/plain": [
              "LinearRegression(copy_X=True, fit_intercept=True, n_jobs=None, normalize=False)"
            ]
          },
          "metadata": {
            "tags": []
          },
          "execution_count": 32
        }
      ]
    },
    {
      "cell_type": "markdown",
      "metadata": {
        "id": "kCyxeyJtkqSe"
      },
      "source": [
        "We our model created, print the model coeficient, intercept and measure the mean squared error of the model."
      ]
    },
    {
      "cell_type": "code",
      "metadata": {
        "id": "hgE9ABGuP789",
        "outputId": "56d48489-e4b5-48c6-97a7-d253809e25c6",
        "colab": {
          "base_uri": "https://localhost:8080/",
          "height": 68
        }
      },
      "source": [
        "print(lr1.coef_)\n",
        "print(lr1.intercept_)\n",
        "print(mean_squared_error(salePrice, lr1.predict(lotFrontage)))"
      ],
      "execution_count": null,
      "outputs": [
        {
          "output_type": "stream",
          "text": [
            "[1208.0155492]\n",
            "96299.75696070473\n",
            "5599428130.969559\n"
          ],
          "name": "stdout"
        }
      ]
    },
    {
      "cell_type": "markdown",
      "metadata": {
        "id": "43HlaFrTwPXX"
      },
      "source": [
        "## 5. Regression Analysis for MasVnrAre"
      ]
    },
    {
      "cell_type": "markdown",
      "metadata": {
        "id": "PUbS3h1jnFmX"
      },
      "source": [
        "We the repeat the same steps of section 4 for the MasVnrAre attribute."
      ]
    },
    {
      "cell_type": "code",
      "metadata": {
        "id": "_nJCbdSKfx1P"
      },
      "source": [
        "masVnrAre = df_float[['MasVnrArea']]\n",
        "salePrice = df['SalePrice']"
      ],
      "execution_count": null,
      "outputs": []
    },
    {
      "cell_type": "code",
      "metadata": {
        "id": "31TMn0lOf15p",
        "outputId": "f38115cc-ae20-49b9-c8b0-b75876de8357",
        "colab": {
          "base_uri": "https://localhost:8080/",
          "height": 34
        }
      },
      "source": [
        "lr2 = LinearRegression()\n",
        "lr2.fit(masVnrAre, salePrice)"
      ],
      "execution_count": null,
      "outputs": [
        {
          "output_type": "execute_result",
          "data": {
            "text/plain": [
              "LinearRegression(copy_X=True, fit_intercept=True, n_jobs=None, normalize=False)"
            ]
          },
          "metadata": {
            "tags": []
          },
          "execution_count": 35
        }
      ]
    },
    {
      "cell_type": "code",
      "metadata": {
        "id": "OeXcYlZ6f4JJ",
        "outputId": "e558f3ad-e585-4cb6-ea01-e35137f20183",
        "colab": {
          "base_uri": "https://localhost:8080/",
          "height": 68
        }
      },
      "source": [
        "print(lr2.coef_)\n",
        "print(lr2.intercept_)\n",
        "print(mean_squared_error(salePrice, lr2.predict(masVnrAre)))"
      ],
      "execution_count": null,
      "outputs": [
        {
          "output_type": "stream",
          "text": [
            "[209.08536998]\n",
            "159242.12458511663\n",
            "4882373206.33175\n"
          ],
          "name": "stdout"
        }
      ]
    },
    {
      "cell_type": "markdown",
      "metadata": {
        "id": "VW3JZ3WPwXsE"
      },
      "source": [
        "## 6. Regression Analysis for GarageYrBlt"
      ]
    },
    {
      "cell_type": "markdown",
      "metadata": {
        "id": "4cOv00tWnQf_"
      },
      "source": [
        "We the repeat the same steps of section 4 for the GarageYrBlt attribute."
      ]
    },
    {
      "cell_type": "code",
      "metadata": {
        "id": "JrssvZGdgfqc"
      },
      "source": [
        "garageYrBlt = df_float[['GarageYrBlt']]\n",
        "salePrice = df['SalePrice']"
      ],
      "execution_count": null,
      "outputs": []
    },
    {
      "cell_type": "code",
      "metadata": {
        "id": "DU3T0WomgihV",
        "outputId": "ec794c4f-7189-4a92-8519-06e60796dd2c",
        "colab": {
          "base_uri": "https://localhost:8080/",
          "height": 34
        }
      },
      "source": [
        "lr3 = LinearRegression()\n",
        "lr3.fit(garageYrBlt, salePrice)"
      ],
      "execution_count": null,
      "outputs": [
        {
          "output_type": "execute_result",
          "data": {
            "text/plain": [
              "LinearRegression(copy_X=True, fit_intercept=True, n_jobs=None, normalize=False)"
            ]
          },
          "metadata": {
            "tags": []
          },
          "execution_count": 38
        }
      ]
    },
    {
      "cell_type": "code",
      "metadata": {
        "id": "3wpqad9jgzTU",
        "outputId": "ea8d07cc-b018-4d3e-c715-7dda20479121",
        "colab": {
          "base_uri": "https://localhost:8080/",
          "height": 68
        }
      },
      "source": [
        "print(lr3.coef_)\n",
        "print(lr3.intercept_)\n",
        "print(mean_squared_error(salePrice, lr3.predict(garageYrBlt)))"
      ],
      "execution_count": null,
      "outputs": [
        {
          "output_type": "stream",
          "text": [
            "[1556.68774577]\n",
            "-2898995.104363801\n",
            "4912566774.814545\n"
          ],
          "name": "stdout"
        }
      ]
    },
    {
      "cell_type": "markdown",
      "metadata": {
        "id": "xcqp-wUMwf2x"
      },
      "source": [
        "## 7. Results\n",
        "\n",
        "The results of ou regression analysis are presented in the charts below. For each analysed atrribute we use a scatter plot to represent the data points (in blue) userd for the analysis. Then we use the predicted values (the output of the model) to plot a line representing the linear model (in orange)."
      ]
    },
    {
      "cell_type": "code",
      "metadata": {
        "id": "D86s_Gy3kN3p",
        "outputId": "7d010af3-97ed-4115-c509-add309727bb7",
        "colab": {
          "base_uri": "https://localhost:8080/",
          "height": 514
        }
      },
      "source": [
        "f = plt.figure()\n",
        "f, ax = plt.subplots(1, 3, figsize=(30, 8))\n",
        "\n",
        "ax = plt.subplot(1, 3, 1)\n",
        "plt.ylabel('SalePrice')\n",
        "plt.xlabel('LotFrontage')\n",
        "ax = plt.scatter(lotFrontage, salePrice)\n",
        "ax = plt.plot(lotFrontage, lr1.predict(lotFrontage), linewidth=5.0, color='orange')\n",
        "\n",
        "ax = plt.subplot(1, 3, 2)\n",
        "plt.ylabel('SalePrice')\n",
        "plt.xlabel('MasVnrArea')\n",
        "ax = plt.scatter(masVnrAre, salePrice)\n",
        "ax = plt.plot(masVnrAre, lr2.predict(masVnrAre), linewidth=5.0, color='orange')\n",
        "\n",
        "ax = plt.subplot(1, 3, 3)\n",
        "plt.ylabel('SalePrice')\n",
        "plt.xlabel('GarageYrBlt')\n",
        "ax = plt.scatter(garageYrBlt, salePrice)\n",
        "ax = plt.plot(garageYrBlt, lr3.predict(garageYrBlt), linewidth=5.0, color='orange')\n",
        "\n",
        "ax = plt.show()"
      ],
      "execution_count": null,
      "outputs": [
        {
          "output_type": "display_data",
          "data": {
            "text/plain": [
              "<Figure size 432x288 with 0 Axes>"
            ]
          },
          "metadata": {
            "tags": []
          }
        },
        {
          "output_type": "display_data",
          "data": {
            "image/png": "[encoded data removed]",
            "text/plain": [
              "<Figure size 2160x576 with 3 Axes>"
            ]
          },
          "metadata": {
            "tags": []
          }
        }
      ]
    },
    {
      "cell_type": "markdown",
      "metadata": {
        "id": "a9GBxo3RweYi"
      },
      "source": [
        "Finally, we use a bar chart to compare the mean squared error of each model."
      ]
    },
    {
      "cell_type": "code",
      "metadata": {
        "id": "UeW4TACilDd1",
        "outputId": "45288176-be74-49f5-863e-34f963b3d191",
        "colab": {
          "base_uri": "https://localhost:8080/",
          "height": 494
        }
      },
      "source": [
        "names = ['LotFrontage', 'MasVnrArea',\t'GarageYrBlt']\n",
        "heights = [\n",
        "           mean_squared_error(salePrice, lr1.predict(lotFrontage)),\n",
        "           mean_squared_error(salePrice, lr2.predict(masVnrAre)),\n",
        "           mean_squared_error(salePrice, lr3.predict(garageYrBlt))]\n",
        "\n",
        "f = plt.figure(figsize=(8,8))\n",
        "ax = plt.bar(names, heights)"
      ],
      "execution_count": null,
      "outputs": [
        {
          "output_type": "display_data",
          "data": {
            "image/png": "[encoded data removed]",
            "text/plain": [
              "<Figure size 576x576 with 1 Axes>"
            ]
          },
          "metadata": {
            "tags": []
          }
        }
      ]
    },
    {
      "cell_type": "markdown",
      "metadata": {
        "id": "UuJd9J0Oe7YN"
      },
      "source": [
        "## 8. Conclusion\n",
        "\n",
        "In this example, we used the Linear Regression as a exploratory data analysis tool. Usign the scikit-learn libray we create Linear Regression models to understand if the target attribute *SalePrice* can be explained in terms of *LotFrontage*, *MasVnrArea* or *GarageYrBlt* individually.\n",
        "\n",
        "Finally, the results of modeling are presented by printing the coeficients and intercepts of the models as well as ploting them together with the data points.\n"
      ]
    }
  ]
}